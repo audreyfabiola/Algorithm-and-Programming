{
 "cells": [
  {
   "cell_type": "markdown",
   "metadata": {},
   "source": [
    "#1"
   ]
  },
  {
   "cell_type": "code",
   "execution_count": 36,
   "metadata": {},
   "outputs": [
    {
     "name": "stdout",
     "output_type": "stream",
     "text": [
      "Enter number of hours: \n",
      "Enter number of minutes: \n",
      "Enter number of seconds\n",
      "The number of days is: 4.0797\n"
     ]
    }
   ],
   "source": [
    "def convert_to_days():\n",
    "   hours = eval(input(print(\"Enter number of hours: \")))\n",
    "   minutes = eval(input(print(\"Enter number of minutes: \")))\n",
    "   seconds = eval(input(print(\"Enter number of seconds\")))\n",
    "   def get_days():\n",
    "      return float(hours + (minutes/60) + (seconds/3600))/24\n",
    "   print(\"The number of days is: \" + str(round(get_days(),4)))\n",
    "\n",
    "convert_to_days()\n"
   ]
  },
  {
   "cell_type": "markdown",
   "metadata": {},
   "source": [
    "#2"
   ]
  },
  {
   "cell_type": "code",
   "execution_count": 21,
   "metadata": {},
   "outputs": [
    {
     "name": "stdout",
     "output_type": "stream",
     "text": [
      "120.0\n",
      "282.85714285714283\n",
      "282.85714285714283\n"
     ]
    }
   ],
   "source": [
    "def calc_weight_on_planet(weight,gravity=23.1):\n",
    "    mass = (weight/9.8)*gravity\n",
    "    print(mass)\n",
    "\n",
    "calc_weight_on_planet(120,9.8)\n",
    "calc_weight_on_planet(120)\n",
    "calc_weight_on_planet(120,23.1)\n",
    "\n"
   ]
  },
  {
   "cell_type": "markdown",
   "metadata": {},
   "source": [
    "#3"
   ]
  },
  {
   "cell_type": "code",
   "execution_count": 23,
   "metadata": {},
   "outputs": [
    {
     "name": "stdout",
     "output_type": "stream",
     "text": [
      "3.0563029903030914e+22\n",
      "5.016248645946171e+23\n",
      "5.972222222222222e+24\n"
     ]
    }
   ],
   "source": [
    "def num_atoms(mass,weight=196.97):\n",
    "    count = (mass/weight)*(6.02*10**23)\n",
    "    print(count)\n",
    "\n",
    "num_atoms(10)\n",
    "num_atoms(10,12.001)\n",
    "num_atoms(10,1.008)"
   ]
  },
  {
   "cell_type": "markdown",
   "metadata": {},
   "source": [
    "#4"
   ]
  },
  {
   "cell_type": "code",
   "execution_count": 28,
   "metadata": {},
   "outputs": [
    {
     "name": "stdout",
     "output_type": "stream",
     "text": [
      "Enter the current width: \n",
      "Enter the current weight: \n",
      "Enter the desired width: \n",
      "The corresponding height is: 259.0\n"
     ]
    },
    {
     "data": {
      "text/plain": [
       "259.0"
      ]
     },
     "execution_count": 28,
     "metadata": {},
     "output_type": "execute_result"
    }
   ],
   "source": [
    "def calc_new_height():\n",
    "    current_width = eval(input(print(\"Enter the current width: \")))\n",
    "    current_height = eval(input(print(\"Enter the current weight: \")))\n",
    "    desired_width = eval(input(print(\"Enter the desired width: \")))\n",
    "    new_height = current_height/current_width*desired_width\n",
    "    print(f\"The corresponding height is: {new_height}\")\n",
    "    return new_height\n",
    "\n",
    "calc_new_height()\n"
   ]
  },
  {
   "cell_type": "markdown",
   "metadata": {},
   "source": [
    "#5"
   ]
  },
  {
   "cell_type": "code",
   "execution_count": 34,
   "metadata": {},
   "outputs": [
    {
     "name": "stdout",
     "output_type": "stream",
     "text": [
      "Enter a temperature in Fahrenheit: \n",
      "The temperature in Fahrenheit is: 32\n",
      "The temperature in Celcius is: 0.0\n",
      "The temperature in Kelvin is: 273.15\n"
     ]
    }
   ],
   "source": [
    "def convert_temp():\n",
    "    Tf = eval(input(print(\"Enter a temperature in Fahrenheit: \")))\n",
    "    print(f\"The temperature in Fahrenheit is: {Tf}\")\n",
    "    def convert_to_celsius(Tf):\n",
    "        return 5/9*(Tf-32)\n",
    "    Tc = convert_to_celsius(Tf)\n",
    "    print(f\"The temperature in Celcius is: {Tc}\")\n",
    "    def convert_to_kelvin(Tc):\n",
    "        return Tc +273.15\n",
    "    Tk = convert_to_kelvin(Tc)\n",
    "    print(f\"The temperature in Kelvin is: {Tk}\")\n",
    "\n",
    "convert_temp()\n"
   ]
  }
 ],
 "metadata": {
  "kernelspec": {
   "display_name": "Python 3.10.7 64-bit",
   "language": "python",
   "name": "python3"
  },
  "language_info": {
   "codemirror_mode": {
    "name": "ipython",
    "version": 3
   },
   "file_extension": ".py",
   "mimetype": "text/x-python",
   "name": "python",
   "nbconvert_exporter": "python",
   "pygments_lexer": "ipython3",
   "version": "3.10.7"
  },
  "orig_nbformat": 4,
  "vscode": {
   "interpreter": {
    "hash": "aee8b7b246df8f9039afb4144a1f6fd8d2ca17a180786b69acc140d282b71a49"
   }
  }
 },
 "nbformat": 4,
 "nbformat_minor": 2
}
