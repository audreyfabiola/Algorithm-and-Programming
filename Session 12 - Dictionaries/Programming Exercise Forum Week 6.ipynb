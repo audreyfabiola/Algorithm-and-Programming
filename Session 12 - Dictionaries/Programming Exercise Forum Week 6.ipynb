{
 "cells": [
  {
   "cell_type": "markdown",
   "metadata": {},
   "source": [
    "#1"
   ]
  },
  {
   "cell_type": "code",
   "execution_count": 4,
   "metadata": {},
   "outputs": [
    {
     "name": "stdout",
     "output_type": "stream",
     "text": [
      "{'gold': 550, 'pouch': ['flint', 'twine', 'gemstone'], 'backpack': ['bedroll', 'bread loaf', 'xylophone'], 'pocket': ('seashell', 'strange berry', 'lint')}\n"
     ]
    }
   ],
   "source": [
    "inventory = {\n",
    "    'gold':500,\n",
    "    'pouch':['flint', 'twine', 'gemstone'],\n",
    "    'backpack':['xylophone', 'dagger', 'bedroll', 'bread loaf']\n",
    "}\n",
    "\n",
    "inventory['pocket'] = 'seashell', 'strange berry', 'lint'\n",
    "inventory['backpack'].sort() \n",
    "inventory['backpack'].remove('dagger')\n",
    "inventory['gold'] += 50\n",
    "\n",
    "print(inventory)\n"
   ]
  },
  {
   "cell_type": "markdown",
   "metadata": {},
   "source": [
    "#2"
   ]
  },
  {
   "cell_type": "code",
   "execution_count": 22,
   "metadata": {},
   "outputs": [
    {
     "name": "stdout",
     "output_type": "stream",
     "text": [
      "banana\n",
      "price: 4\n",
      "stock: 2\n",
      "\n",
      "\n",
      "apple\n",
      "price: 2\n",
      "stock: 0\n",
      "\n",
      "\n",
      "orange\n",
      "price: 1.5\n",
      "stock: 4\n",
      "\n",
      "\n",
      "pear\n",
      "price: 3\n",
      "stock: 1\n",
      "\n",
      "\n",
      "The total money gained for banana is: 8\n",
      "The total money gained for apple is: 0\n",
      "The total money gained for orange is: 6.0\n",
      "The total money gained for pear is: 3\n",
      "Money from selling all of the foods: 17.0\n"
     ]
    }
   ],
   "source": [
    "prices = {'banana':4, 'apple':2, 'orange':1.5, 'pear':3}\n",
    "stock = {'banana':2, 'apple':0,'orange':4,'pear':1} \n",
    "for fruit, price in prices.items():\n",
    "    print(fruit)\n",
    "    print (f'price: {price}')\n",
    "    print (f'stock: {stock[fruit]}')\n",
    "    print('\\n')\n",
    "\n",
    "total = 0\n",
    "for fruit, price in prices.items():\n",
    "    total_price_per_fruit = prices[fruit]*stock[fruit]\n",
    "    print(f'The total money gained for {fruit} is: {total_price_per_fruit}')\n",
    "    total += total_price_per_fruit    \n",
    "\n",
    "print(f'Money from selling all of the foods: {total}')"
   ]
  },
  {
   "cell_type": "markdown",
   "metadata": {},
   "source": [
    "#3   "
   ]
  },
  {
   "cell_type": "code",
   "execution_count": 5,
   "metadata": {},
   "outputs": [
    {
     "name": "stdout",
     "output_type": "stream",
     "text": [
      "Your total bill is: 5.5\n"
     ]
    }
   ],
   "source": [
    "groceries = [\"banana\", \"orange\", \"apple\"]  \n",
    "stock = {\"banana\":6, \n",
    "    \"apple\":0, \n",
    "    \"orange\":32, \n",
    "    \"pear\":15\n",
    "}\n",
    "prices = {\"banana\":4, \n",
    "    \"apple\":2, \n",
    "    \"orange\":1.5, \n",
    "    \"pear\":3\n",
    "}\n",
    "\n",
    "def compute_bill(food):\n",
    "    total = 0\n",
    "    for item in food:\n",
    "        if stock[item] > 0:\n",
    "            total += prices[item]\n",
    "            stock[item] -= 1  \n",
    "    return total      \n",
    "\n",
    "print(f\"Your total bill is: {compute_bill(groceries)}\")\n",
    "        "
   ]
  },
  {
   "cell_type": "markdown",
   "metadata": {},
   "source": [
    "#4"
   ]
  },
  {
   "cell_type": "code",
   "execution_count": 18,
   "metadata": {},
   "outputs": [
    {
     "name": "stdout",
     "output_type": "stream",
     "text": [
      "name Eren\n",
      "homework [90.0, 97.0, 75.0, 92.0]\n",
      "quizzes [88.0, 40.0, 94.0]\n",
      "tests [75.0, 90.0]\n",
      "\n",
      "\n",
      "name Mikasa\n",
      "homework [100.0, 92.0, 98.0, 100.0]\n",
      "quizzes [82.0, 83.0, 91.0]\n",
      "tests [89.0, 97.0]\n",
      "\n",
      "\n",
      "name Armin\n",
      "homework [0.0, 87.0, 75.0, 22.0]\n",
      "quizzes [0.0, 75.0, 78.0]\n",
      "tests [100.0, 100.0]\n",
      "\n",
      "\n",
      "The average letter grade for eren is: B\n",
      "The class average letter grade: B\n",
      "The class average grade is: 83.86666666666666\n"
     ]
    }
   ],
   "source": [
    "eren = {\n",
    "\"name\": \"Eren\",\n",
    "\"homework\": [90.0,97.0,75.0,92.0], \"quizzes\": [88.0,40.0,94.0],\n",
    "\"tests\": [75.0,90.0]\n",
    "}\n",
    "\n",
    "mikasa = {\n",
    "\"name\": \"Mikasa\",\n",
    "\"homework\": [100.0, 92.0, 98.0, 100.0], \"quizzes\": [82.0, 83.0, 91.0],\n",
    "\"tests\": [89.0, 97.0]\n",
    "}\n",
    "\n",
    "armin = {\n",
    "\"name\": \"Armin\",\n",
    "\"homework\": [0.0, 87.0, 75.0, 22.0], \"quizzes\": [0.0, 75.0, 78.0],\n",
    "\"tests\": [100.0, 100.0]\n",
    "} \n",
    "\n",
    "students = [eren, mikasa, armin] \n",
    "\n",
    "for student in students:\n",
    "    for x,y in student.items():\n",
    "        print(x,y)\n",
    "    print('\\n')\n",
    "\n",
    "def average(numbers):\n",
    "    total = float(sum(numbers)/len(numbers))\n",
    "    return total  \n",
    "\n",
    "def get_average(student):\n",
    "    homework = average(student[\"homework\"])\n",
    "    quizzes = average(student[\"quizzes\"])\n",
    "    tests = average(student[\"tests\"])\n",
    "    sum_of_3_averages = (homework*10/100) + (quizzes*30/100) + (tests*60/100)\n",
    "    return sum_of_3_averages\n",
    "\n",
    "def get_letter_grade(score=float):\n",
    "    if score >= 90:\n",
    "        return \"A\"\n",
    "    elif score >= 80:\n",
    "        return \"B\"\n",
    "    elif score >= 70:\n",
    "        return \"C\"\n",
    "    elif score >= 60:\n",
    "        return \"D\"\n",
    "    else:\n",
    "        return \"F\"\n",
    "\n",
    "print(f\"The average letter grade for eren is: {get_letter_grade(get_average(eren))}\")\n",
    "\n",
    "def get_class_average(students):\n",
    "    results = []\n",
    "    for student in students:\n",
    "        results.append(get_average(student))\n",
    "    return average(results)\n",
    "\n",
    "print(f\"The class average letter grade: {get_letter_grade(get_class_average([eren, mikasa, armin]))}\")\n",
    "print(f\"The class average grade is: {get_class_average([eren, mikasa, armin])}\")"
   ]
  }
 ],
 "metadata": {
  "kernelspec": {
   "display_name": "Python 3.10.7 64-bit",
   "language": "python",
   "name": "python3"
  },
  "language_info": {
   "codemirror_mode": {
    "name": "ipython",
    "version": 3
   },
   "file_extension": ".py",
   "mimetype": "text/x-python",
   "name": "python",
   "nbconvert_exporter": "python",
   "pygments_lexer": "ipython3",
   "version": "3.10.7"
  },
  "orig_nbformat": 4,
  "vscode": {
   "interpreter": {
    "hash": "aee8b7b246df8f9039afb4144a1f6fd8d2ca17a180786b69acc140d282b71a49"
   }
  }
 },
 "nbformat": 4,
 "nbformat_minor": 2
}
