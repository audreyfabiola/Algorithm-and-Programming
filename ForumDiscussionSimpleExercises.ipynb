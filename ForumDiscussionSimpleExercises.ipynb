{
 "cells": [
  {
   "cell_type": "markdown",
   "metadata": {},
   "source": [
    "#1 Write a Python program which accepts the radius of a circle from the user and compute the area"
   ]
  },
  {
   "cell_type": "code",
   "execution_count": null,
   "metadata": {},
   "outputs": [],
   "source": [
    "radius = eval(input(print((\"Enter the radius of a circle: \"))))\n",
    "phi = 22/7\n",
    "area = phi*(radius)**2\n",
    "\n",
    "print(f\"Area of the circle: {area:.2f}\")"
   ]
  },
  {
   "cell_type": "markdown",
   "metadata": {},
   "source": [
    "#2 Write a Python program which accepts the user's first and last name and print them in reverse order with a space between them."
   ]
  },
  {
   "cell_type": "code",
   "execution_count": null,
   "metadata": {},
   "outputs": [],
   "source": [
    "first_name = str(input(print(\"Enter your first name: \")))\n",
    "last_name = str(input(print(\"Enter your last name: \")))\n",
    "\n",
    "print(str(last_name) + \" \" + str(first_name))"
   ]
  },
  {
   "cell_type": "markdown",
   "metadata": {},
   "source": [
    "#3 Write a Python program to display the first and last colors from the following list.\n",
    "color_list = [\"Red\",\"Green\",\"White\",\"Black\"]"
   ]
  },
  {
   "cell_type": "code",
   "execution_count": null,
   "metadata": {},
   "outputs": [],
   "source": [
    "color_list = [\"Red\",\"Green\",\"White\",\"Black\"]\n",
    "print(color_list[0])\n",
    "print(color_list[3])"
   ]
  },
  {
   "cell_type": "markdown",
   "metadata": {},
   "source": [
    "#4 Write a Python program that accepts an integer (n) and computes the value of n+nn+nnn."
   ]
  },
  {
   "cell_type": "code",
   "execution_count": null,
   "metadata": {},
   "outputs": [],
   "source": [
    "num = input(print((\"Enter an integer: \")))\n",
    "\n",
    "n = int(num)\n",
    "nn = int(num+num)\n",
    "nnn = int(num+num+num)\n",
    "calculate = n+nn+nnn\n",
    "\n",
    "print(calculate)"
   ]
  },
  {
   "cell_type": "markdown",
   "metadata": {},
   "source": [
    "#5 Write a Python program to get the volume of a sphere with radius 6.\n",
    "The volume of the sphere is : V = 4/3 × π × r3 = π × d3/6."
   ]
  },
  {
   "cell_type": "code",
   "execution_count": null,
   "metadata": {},
   "outputs": [],
   "source": [
    "radius = 6\n",
    "phi = 22/7\n",
    "sphere_volume = 4/3 * phi * (6)**3 \n",
    "print(f\"Volume of the sphere with the radius 6: {sphere_volume:.2f}\")"
   ]
  },
  {
   "cell_type": "markdown",
   "metadata": {},
   "source": [
    "#6 Write a Python program to get the difference between a given number and 17, if the number is greater than 17 return\n",
    "double the absolute difference."
   ]
  },
  {
   "cell_type": "code",
   "execution_count": null,
   "metadata": {},
   "outputs": [],
   "source": [
    "number = int(input(print(\"Enter a number: \")))\n",
    "\n",
    "if number < 17:\n",
    "    calculate = 17 - number\n",
    "    print(calculate)\n",
    "else:\n",
    "    calculate = (number - 17)*2\n",
    "    print(calculate)"
   ]
  },
  {
   "cell_type": "markdown",
   "metadata": {},
   "source": [
    "#7 Write a Python program to calculate the sum of three given numbers, if the values are equal then return thrice of their\n",
    "sum."
   ]
  },
  {
   "cell_type": "code",
   "execution_count": null,
   "metadata": {},
   "outputs": [],
   "source": [
    "number_1 = int(input(print(\"Number 1: \")))\n",
    "number_2 = int(input(print(\"Number 2: \")))\n",
    "number_3 = int(input(print(\"Number 3: \")))\n",
    "\n",
    "if number_1 == number_2 == number_3:\n",
    "    calculate = (number_1 + number_2 + number_3)*3\n",
    "    print(calculate)\n",
    "else:\n",
    "    calculate = (number_1 + number_2 + number_3)\n",
    "    print(calculate)"
   ]
  },
  {
   "cell_type": "markdown",
   "metadata": {},
   "source": [
    "#8 Write a Python program to find whether a given number (accept from the user) is even or odd, print out an appropriate\n",
    "message to the user."
   ]
  },
  {
   "cell_type": "code",
   "execution_count": null,
   "metadata": {},
   "outputs": [],
   "source": [
    "number = int(input(print(\"Enter a number: \")))\n",
    "\n",
    "if number%2 == 0:\n",
    "    print(str(number) + \" is an even number.\")\n",
    "else:\n",
    "    print(str(number) + \"  is an odd number.\")"
   ]
  },
  {
   "cell_type": "markdown",
   "metadata": {},
   "source": [
    "#9 Write a Python program to test whether a letter is a vowel or not."
   ]
  },
  {
   "cell_type": "code",
   "execution_count": null,
   "metadata": {},
   "outputs": [],
   "source": [
    "letter = str(input(print(\"Enter a letter: \")))\n",
    "vowel = [\"a\", \"i\", \"u\", \"e\", \"o\", \"A\", \"I\", \"U\", \"E\", \"O\"]\n",
    "\n",
    "if letter in vowel:\n",
    "    print(str(letter) + \" is a vowel.\")\n",
    "else:\n",
    "    print(str(letter) + \" is not a vowel.\")"
   ]
  },
  {
   "cell_type": "markdown",
   "metadata": {},
   "source": [
    "#10 Write a Python program to check whether a specified value is contained in a group of values."
   ]
  },
  {
   "cell_type": "code",
   "execution_count": null,
   "metadata": {},
   "outputs": [],
   "source": [
    "group_of_values = [1, 2, 3, 4, 5]\n",
    "value = 5\n",
    "\n",
    "if value in group_of_values:\n",
    "    print(str(value) + \" is contained in the group of values.\")\n",
    "else:\n",
    "    print(str(value) + \" is not contained in the group of values.\")"
   ]
  },
  {
   "cell_type": "markdown",
   "metadata": {},
   "source": [
    "#11 Write a Python program to create a histogram from a given list of integers."
   ]
  },
  {
   "cell_type": "code",
   "execution_count": null,
   "metadata": {},
   "outputs": [],
   "source": [
    "numbers = [1,5,4,3]\n",
    "\n",
    "for i in numbers:\n",
    "    histogram = \"*\" * i\n",
    "    print(histogram)"
   ]
  },
  {
   "cell_type": "markdown",
   "metadata": {},
   "source": [
    "#12 Write a Python program to print all even numbers from a given numbers list in the same order.\n",
    "Sample numbers list :\n",
    "numbers = [\n",
    "386, 462, 47, 418, 907, 344, 236, 375, 823, 566, 597, 978, 328, 615, 953, 345, 399, 162, 758, 219, 918, 237, 412, 566, 826, 248, 866, 950, 626, 949, 687, 217, 815, 67, 104, 58, 512, 24, 892, 894, 767, 553, 81, 379, 843, 831, 445, 742, 717, 958,743, 527 ]"
   ]
  },
  {
   "cell_type": "code",
   "execution_count": null,
   "metadata": {},
   "outputs": [],
   "source": [
    "numbers = [386, 462, 47, 418, 907, 344, 236, 375, 823, 566, 597, 978, 328, 615, 953, 345, 399, 162, 758, 219, 918, 237, 412, 566, 826, 248, 866, 950, 626, 949, 687, 217, 815, 67, 104, 58, 512, 24, 892, 894, 767, 553, 81, 379, 843, 831, 445, 742, 717, 958,743, 527]\n",
    "\n",
    "even_numbers = []\n",
    "\n",
    "for n in numbers:\n",
    "    if n%2 == 0:\n",
    "        even_numbers.append(n)\n",
    "\n",
    "print(f\"Even numbers = {even_numbers}\")"
   ]
  },
  {
   "cell_type": "markdown",
   "metadata": {},
   "source": [
    "#13 Write a Python program that will accept the base and height of a triangle and compute the area."
   ]
  },
  {
   "cell_type": "code",
   "execution_count": null,
   "metadata": {},
   "outputs": [],
   "source": [
    "base = int(input(print(\"Enter the base of a triangle: \")))\n",
    "height = int(input(print(\"Enter the height of a triangle: \")))\n",
    "\n",
    "area = (base*height)/2\n",
    "print(\"Area of the triangle: \" + str(area))"
   ]
  },
  {
   "cell_type": "markdown",
   "metadata": {},
   "source": [
    "#14 Write a Python program to get the least common multiple (LCM) of two positive integers."
   ]
  },
  {
   "cell_type": "code",
   "execution_count": null,
   "metadata": {},
   "outputs": [],
   "source": [
    "print(\"Enter two positive integers: \")\n",
    "integer1 = int(input(print(\"Number 1: \")))\n",
    "integer2 = int(input(print(\"Number 2: \")))\n",
    "\n",
    "if integer1>integer2:\n",
    "    bigger = integer1\n",
    "else:\n",
    "    bigger = integer2\n",
    "\n",
    "while True:\n",
    "    if bigger%integer1 == 0 and bigger%integer2 == 0:\n",
    "        lcm = bigger\n",
    "        break\n",
    "    bigger += 1\n",
    "\n",
    "print(\"The LCM of the two positive integers is: \" + str(lcm))\n"
   ]
  },
  {
   "cell_type": "markdown",
   "metadata": {},
   "source": [
    "#15 Write a Python program to sum of three given integers. However, if two values are equal sum will be zero."
   ]
  },
  {
   "cell_type": "code",
   "execution_count": null,
   "metadata": {},
   "outputs": [],
   "source": [
    "number_1 = int(input(print(\"Number 1: \")))\n",
    "number_2 = int(input(print(\"Number 2: \")))\n",
    "number_3 = int(input(print(\"Number 3: \")))\n",
    "\n",
    "if number_1 == number_2 or number_1 == number_3 or number_2 == number_3:\n",
    "    sum = 0\n",
    "    print(sum)\n",
    "else:\n",
    "    calculate = (number_1 + number_2 + number_3)\n",
    "    print(calculate)"
   ]
  },
  {
   "cell_type": "markdown",
   "metadata": {},
   "source": [
    "#16 Write a Python program to solve (x + y) * (x + y).\n",
    "Sample Data : x = 4, y = 3\n",
    "Expected Output : (4 + 3) ^ 2) = 49"
   ]
  },
  {
   "cell_type": "code",
   "execution_count": null,
   "metadata": {},
   "outputs": [],
   "source": [
    "x = int(input(print(\"Enter the value of x: \")))\n",
    "y = int(input(print(\"Enter the value of y: \")))\n",
    "\n",
    "calculate = (x+y)*(x+y)\n",
    "print(\"(\" + str(x) + \" + \" + str(y) + \") ^ 2) = \" + str(calculate))"
   ]
  },
  {
   "cell_type": "markdown",
   "metadata": {},
   "source": [
    "#17 Write a Python program to compute the future value of a specified principal amount, rate of interest, and a number of years.\n",
    "Sample Data : amt = 10000, int = 3.5, years = 7\n",
    "Expected Output : 12722.79"
   ]
  },
  {
   "cell_type": "code",
   "execution_count": null,
   "metadata": {},
   "outputs": [],
   "source": [
    "amt = eval(input(print(\"Enter the principal amount: \")))\n",
    "int = eval(input(print(\"Enter the rate of interest: \")))\n",
    "years = eval(input(print(\"Enter the number of years: \")))\n",
    "\n",
    "future_value = amt*((1+(int/100))**years)\n",
    "print(f\"{future_value:.2f}\")"
   ]
  },
  {
   "cell_type": "markdown",
   "metadata": {},
   "source": [
    "#18 Write a Python program to compute the distance between the points (x1, y1) and (x2, y2)."
   ]
  },
  {
   "cell_type": "code",
   "execution_count": null,
   "metadata": {},
   "outputs": [],
   "source": [
    "x1, y1 = eval(input(print(\"Enter (x1, y1): \")))\n",
    "x2, y2 = eval(input(print(\"Enter (x2, y2): \")))\n",
    "import math\n",
    "distance = math.sqrt((x2-x1)**2+(y2-y1)**2)\n",
    "print(distance)"
   ]
  },
  {
   "cell_type": "markdown",
   "metadata": {},
   "source": [
    "#19 Write a Python program to sum of the first n positive integers."
   ]
  },
  {
   "cell_type": "code",
   "execution_count": null,
   "metadata": {},
   "outputs": [],
   "source": [
    "n = int(input(print(\"Enter a positive integer: \")))\n",
    "total = 0\n",
    "for i in range(1, n+1):\n",
    "    total += i\n",
    "\n",
    "print(\"The sum of the first n positive integers is: \" + str(total))"
   ]
  },
  {
   "cell_type": "markdown",
   "metadata": {},
   "source": [
    "#20 Write a Python program to convert height (in feet and inches) to centimeters."
   ]
  },
  {
   "cell_type": "code",
   "execution_count": null,
   "metadata": {},
   "outputs": [],
   "source": [
    "print(\"Enter your height\")\n",
    "feet = int(input(\"Feet: \"))\n",
    "inches = int(input(\"Inches: \"))\n",
    "\n",
    "height_in_cm = feet*12*2.54 + inches*2.54\n",
    "print(\"Height in cm: \" + str(height_in_cm) + \" cm\")"
   ]
  },
  {
   "cell_type": "markdown",
   "metadata": {},
   "source": [
    "#21 Write a Python program to calculate the hypotenuse of a right angled triangle."
   ]
  },
  {
   "cell_type": "code",
   "execution_count": null,
   "metadata": {},
   "outputs": [],
   "source": [
    "a = eval(input(print(\"Input the height of a right angled triangle: \")))\n",
    "b = eval(input(print(\"Input the base of a right angled triangle: \")))\n",
    "\n",
    "import math\n",
    "hypotenuse = math.sqrt((a)**2+(b)**2)\n",
    "print(\"The hypotenuse of the right angled triangle is: \" + str(hypotenuse))"
   ]
  },
  {
   "cell_type": "markdown",
   "metadata": {},
   "source": [
    "#22 Write a Python program to calculate body mass index."
   ]
  },
  {
   "cell_type": "code",
   "execution_count": null,
   "metadata": {},
   "outputs": [],
   "source": [
    "weight = eval(input(print(\"Enter your weight in kilogram: \")))\n",
    "height = eval(input(print(\"Enter your height in meter: \")))\n",
    "\n",
    "body_mass_index = weight/(height)**2\n",
    "print(f\"Your body mass index is: {body_mass_index:.2f}\")"
   ]
  },
  {
   "cell_type": "markdown",
   "metadata": {},
   "source": [
    "#23 Write a Python program to calculate midpoints of a line."
   ]
  },
  {
   "cell_type": "code",
   "execution_count": null,
   "metadata": {},
   "outputs": [],
   "source": [
    "x1, y1 = eval(input(print(\"Enter (x1, y1): \")))\n",
    "x2, y2 = eval(input(print(\"Enter (x2, y2): \")))\n",
    "\n",
    "x_midpoint = (x1+x2)/2\n",
    "y_midpoint = (y1+y2)/2\n",
    "\n",
    "print(\"The midpoint of the line is: \" + \"(\" + str(x_midpoint) + \",\" + str(y_midpoint) + \")\")\n"
   ]
  },
  {
   "cell_type": "markdown",
   "metadata": {},
   "source": [
    "#24 Write a program which will find all such numbers which are divisible by 7 but are not a multiple of 5, between 2000 and\n",
    "3200 (both included). The numbers obtained should be printed in a comma-separated sequence on a single line. Hints:\n",
    "Consider use range(#begin, #end) method"
   ]
  },
  {
   "cell_type": "code",
   "execution_count": null,
   "metadata": {},
   "outputs": [],
   "source": [
    "list = []\n",
    "for n in range(2000, 3201):\n",
    "    if n&7 == 0 and n%5 != 0:\n",
    "        list.append(str(n))\n",
    "\n",
    "print(\",\".join(list))\n"
   ]
  }
 ],
 "metadata": {
  "kernelspec": {
   "display_name": "Python 3.10.7 64-bit",
   "language": "python",
   "name": "python3"
  },
  "language_info": {
   "codemirror_mode": {
    "name": "ipython",
    "version": 3
   },
   "file_extension": ".py",
   "mimetype": "text/x-python",
   "name": "python",
   "nbconvert_exporter": "python",
   "pygments_lexer": "ipython3",
   "version": "3.10.7"
  },
  "orig_nbformat": 4,
  "vscode": {
   "interpreter": {
    "hash": "aee8b7b246df8f9039afb4144a1f6fd8d2ca17a180786b69acc140d282b71a49"
   }
  }
 },
 "nbformat": 4,
 "nbformat_minor": 2
}
